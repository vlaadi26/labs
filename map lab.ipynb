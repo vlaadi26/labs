{
 "cells": [
  {
   "cell_type": "markdown",
   "metadata": {},
   "source": [
    "# Antes de empezar:\n",
    "- Lee el archivo README.md\n",
    "- Comenta todo lo que puedas y utiliza los recursos en el archivo README.md\n",
    "- ¡Feliz aprendizaje!"
   ]
  },
  {
   "cell_type": "code",
   "execution_count": 1,
   "metadata": {},
   "outputs": [],
   "source": [
    "# Import reduce from functools, numpy and pandas\n",
    "from functools import reduce\n",
    "import numpy\n",
    "import pandas"
   ]
  },
  {
   "cell_type": "markdown",
   "metadata": {},
   "source": [
    "# Desafío 1 - Mapping\n",
    "\n",
    "#### Usaremos la función map para limpiar palabras en un libro.\n",
    "\n",
    "En la siguiente celda, leeremos un archivo de texto que contiene el libro El Profeta de Khalil Gibran."
   ]
  },
  {
   "cell_type": "code",
   "execution_count": 2,
   "metadata": {},
   "outputs": [],
   "source": [
    "# Corre este codigo:\n",
    "\n",
    "location = '58585-0.txt'\n",
    "with open(location, 'r', encoding=\"utf8\") as f:\n",
    "    prophet = f.read().split(' ')"
   ]
  },
  {
   "cell_type": "code",
   "execution_count": 3,
   "metadata": {},
   "outputs": [
    {
     "data": {
      "text/plain": [
       "13637"
      ]
     },
     "execution_count": 3,
     "metadata": {},
     "output_type": "execute_result"
    }
   ],
   "source": [
    "len(prophet)"
   ]
  },
  {
   "cell_type": "code",
   "execution_count": 26,
   "metadata": {},
   "outputs": [
    {
     "data": {
      "text/plain": [
       "list"
      ]
     },
     "execution_count": 26,
     "metadata": {},
     "output_type": "execute_result"
    }
   ],
   "source": [
    "type(prophet)"
   ]
  },
  {
   "cell_type": "code",
   "execution_count": 4,
   "metadata": {},
   "outputs": [
    {
     "data": {
      "text/plain": [
       "13637"
      ]
     },
     "execution_count": 4,
     "metadata": {},
     "output_type": "execute_result"
    }
   ],
   "source": [
    "len(prophet)"
   ]
  },
  {
   "cell_type": "markdown",
   "metadata": {},
   "source": [
    "#### Vamos a eliminar las primeras 568 palabras ya que contienen información sobre el libro pero no son parte del libro en sí.\n",
    "\n",
    "Haz esto eliminando de `prophet` los elementos del 0 al 567 de la lista (también puedes hacer esto manteniendo los elementos del 568 al último elemento)."
   ]
  },
  {
   "cell_type": "code",
   "execution_count": 5,
   "metadata": {},
   "outputs": [
    {
     "data": {
      "text/plain": [
       "13069"
      ]
     },
     "execution_count": 5,
     "metadata": {},
     "output_type": "execute_result"
    }
   ],
   "source": [
    "# tu codigo aquí\n",
    "\n",
    "prophet_2 = prophet[568:]\n",
    "    \n",
    "len(prophet_2)"
   ]
  },
  {
   "cell_type": "code",
   "execution_count": 7,
   "metadata": {},
   "outputs": [
    {
     "data": {
      "text/plain": [
       "13637"
      ]
     },
     "execution_count": 7,
     "metadata": {},
     "output_type": "execute_result"
    }
   ],
   "source": [
    "len(prophet)"
   ]
  },
  {
   "cell_type": "code",
   "execution_count": 8,
   "metadata": {},
   "outputs": [
    {
     "data": {
      "text/plain": [
       "568"
      ]
     },
     "execution_count": 8,
     "metadata": {},
     "output_type": "execute_result"
    }
   ],
   "source": [
    "len(prophet) - len(prophet_2)"
   ]
  },
  {
   "cell_type": "markdown",
   "metadata": {},
   "source": [
    "Si revisas las palabras, encontrarás que muchas palabras tienen una referencia adjunta a ellas. Por ejemplo, veamos las palabras del 1 al 10."
   ]
  },
  {
   "cell_type": "code",
   "execution_count": 15,
   "metadata": {},
   "outputs": [
    {
     "name": "stdout",
     "output_type": "stream",
     "text": [
      "['PROPHET\\n\\n|Almustafa,', 'the{7}', 'chosen', 'and', 'the\\nbeloved,', 'who', 'was', 'a', 'dawn']\n"
     ]
    }
   ],
   "source": [
    "# tu codigo aquí\n",
    "print(prophet_2[0:9])"
   ]
  },
  {
   "cell_type": "markdown",
   "metadata": {},
   "source": [
    "#### El siguiente paso es crear una función que eliminará las referencias.\n",
    "\n",
    "Haremos esto dividiendo la cadena en el carácter `{` y manteniendo solo la parte antes de este carácter. Escribe tu función a continuación."
   ]
  },
  {
   "cell_type": "code",
   "execution_count": 21,
   "metadata": {},
   "outputs": [],
   "source": [
    "prophet_2 = str(prophet_2)"
   ]
  },
  {
   "cell_type": "code",
   "execution_count": 28,
   "metadata": {},
   "outputs": [
    {
     "name": "stdout",
     "output_type": "stream",
     "text": [
      "127030\n"
     ]
    }
   ],
   "source": [
    "def referencia(x):\n",
    "    import re\n",
    "    return re.sub(r\"\\{\\d+\\}\", '', x)\n",
    "    \n",
    "prophet_3 = referencia(prophet_2)\n",
    "print(len(prophet_3))\n",
    "    \n",
    "    \n",
    "    # tu código aquí"
   ]
  },
  {
   "cell_type": "code",
   "execution_count": 61,
   "metadata": {},
   "outputs": [
    {
     "name": "stdout",
     "output_type": "stream",
     "text": [
      "[\"['PROPHET\\\\n\\\\n|Almustafa,',\", \"'the',\", \"'chosen',\", \"'and',\", \"'the\\\\nbeloved,',\", \"'who',\", \"'was',\", \"'a',\", \"'dawn',\", \"'unto',\", \"'his',\", \"'own\\\\nday,',\", \"'had',\", \"'waited',\", \"'twelve',\", \"'years',\", \"'in',\", \"'the',\", \"'city\\\\nof',\", \"'Orphalese',\", \"'for',\", \"'his',\", \"'ship',\", \"'that',\", \"'was',\", \"'to\\\\nreturn',\", \"'and',\", \"'bear',\", \"'him',\", \"'back',\"]\n"
     ]
    }
   ],
   "source": [
    "prophet_4 = prophet_3.split()\n",
    "len(prophet_4)\n",
    "print(prophet_4[0:30])"
   ]
  },
  {
   "cell_type": "markdown",
   "metadata": {},
   "source": [
    "Ahora que tenemos nuestra función, usa la función `map()` para aplicar esta función a nuestro libro, El Profeta. Devuelve la lista resultante a una nueva lista llamada `prophet_reference`."
   ]
  },
  {
   "cell_type": "code",
   "execution_count": 46,
   "metadata": {
    "tags": []
   },
   "outputs": [],
   "source": [
    "# tu codigo aquí\n"
   ]
  },
  {
   "cell_type": "code",
   "execution_count": null,
   "metadata": {},
   "outputs": [],
   "source": []
  },
  {
   "cell_type": "markdown",
   "metadata": {},
   "source": [
    "Otra cosa que podrías haber notado es que algunas palabras contienen un salto de línea. Escribamos una función para dividir esas palabras. Nuestra función devolverá la cadena dividida en el carácter `\\n`. Escribe tu función en la celda de abajo."
   ]
  },
  {
   "cell_type": "code",
   "execution_count": 65,
   "metadata": {
    "tags": []
   },
   "outputs": [
    {
     "name": "stdout",
     "output_type": "stream",
     "text": [
      "['PROPHETnnAlmustafa', 'the', 'chosen', 'and', 'thenbeloved', 'who', 'was', 'a', 'dawn', 'unto']\n"
     ]
    }
   ],
   "source": [
    "import re\n",
    "\n",
    "prophet_5 = []\n",
    "for frase in prophet_4:\n",
    "    # Eliminar caracteres adicionales\n",
    "    frase_limpia = re.sub(r\"[^\\w\\s]\", '', frase)\n",
    "    # Dividir en palabras y agregar a la lista\n",
    "    prophet_5.extend(frase_limpia.split())\n",
    "\n",
    "\n",
    "print(prophet_5[:10])\n",
    "    # tu código aquí"
   ]
  },
  {
   "cell_type": "code",
   "execution_count": 64,
   "metadata": {},
   "outputs": [
    {
     "name": "stdout",
     "output_type": "stream",
     "text": [
      "13022\n"
     ]
    }
   ],
   "source": [
    "type(prophet_5)\n",
    "print(len(prophet_5))"
   ]
  },
  {
   "cell_type": "code",
   "execution_count": null,
   "metadata": {},
   "outputs": [],
   "source": []
  },
  {
   "cell_type": "markdown",
   "metadata": {},
   "source": [
    "Aplica la función `salto_de_linea` a la lista `prophet_reference`. Nombra la nueva lista `prophet_line`."
   ]
  },
  {
   "cell_type": "code",
   "execution_count": 67,
   "metadata": {
    "scrolled": true
   },
   "outputs": [
    {
     "ename": "NameError",
     "evalue": "name 'prophet_reference' is not defined",
     "output_type": "error",
     "traceback": [
      "\u001b[1;31m---------------------------------------------------------------------------\u001b[0m",
      "\u001b[1;31mNameError\u001b[0m                                 Traceback (most recent call last)",
      "\u001b[1;32m~\\AppData\\Local\\Temp\\1\\ipykernel_23756\\2585743859.py\u001b[0m in \u001b[0;36m<module>\u001b[1;34m\u001b[0m\n\u001b[0;32m      1\u001b[0m \u001b[1;31m# tu codigo aquí\u001b[0m\u001b[1;33m\u001b[0m\u001b[1;33m\u001b[0m\u001b[0m\n\u001b[1;32m----> 2\u001b[1;33m \u001b[0mprint\u001b[0m\u001b[1;33m(\u001b[0m\u001b[0mprophet_reference\u001b[0m\u001b[1;33m)\u001b[0m\u001b[1;33m\u001b[0m\u001b[1;33m\u001b[0m\u001b[0m\n\u001b[0m",
      "\u001b[1;31mNameError\u001b[0m: name 'prophet_reference' is not defined"
     ]
    }
   ],
   "source": [
    "# tu codigo aquí\n",
    "print(prophet_reference)"
   ]
  },
  {
   "cell_type": "markdown",
   "metadata": {},
   "source": [
    "Si miras los elementos de `prophet_line`, verás que la función devolvió listas y no cadenas. Nuestra lista ahora es una lista de listas. Aplana la lista usando comprensión de listas. Asigna esta nueva lista a `prophet_flat`."
   ]
  },
  {
   "cell_type": "code",
   "execution_count": null,
   "metadata": {},
   "outputs": [],
   "source": [
    "prophet_flat = [i for sub in prophet_line for i in sub]\n",
    "prophet_flat"
   ]
  },
  {
   "cell_type": "code",
   "execution_count": null,
   "metadata": {},
   "outputs": [],
   "source": [
    "# tu codigo aquí"
   ]
  },
  {
   "cell_type": "markdown",
   "metadata": {},
   "source": [
    "# Desafío 2 - Filtering\n",
    "\n",
    "Al imprimir algunas palabras del libro, vemos que hay palabras que tal vez no queramos conservar si elegimos analizar el corpus de texto. A continuación, se muestra una lista de palabras que nos gustaría eliminar. Crea una función que devuelva falso si contiene una palabra de la lista de palabras especificadas y verdadero de lo contrario."
   ]
  },
  {
   "cell_type": "code",
   "execution_count": 69,
   "metadata": {},
   "outputs": [
    {
     "name": "stdout",
     "output_type": "stream",
     "text": [
      "FAlSE\n",
      "FAlSE\n",
      "FAlSE\n",
      "FALSE\n",
      "[]\n"
     ]
    }
   ],
   "source": [
    "\n",
    "    '''\n",
    "    Entrada: Una cadena\n",
    "    Salida: Verdadero si la palabra no está en la lista especificada \n",
    "    y Falso si la palabra está en la lista.\n",
    "        \n",
    "    Ejemplo:\n",
    "    lista de palabras = ['and', 'the']\n",
    "    Entrada: 'and'\n",
    "    Salida: FALSE\n",
    "    \n",
    "    Entrada: 'John'\n",
    "    Salida: TRUE\n",
    "    '''\n",
    "    \n",
    "    lista_palabras = ['and', 'the', 'a', 'an']\n",
    "    \n",
    "    # tu código aquí\n",
    "    def filtro_palabra(i):\n",
    "        if (i) == 'and':\n",
    "            print (\"FAlSE\")\n",
    "            \n",
    "        elif (i) == 'and':\n",
    "            print (\"TRUE\")\n",
    "            \n",
    "        if (i) == 'the':\n",
    "            print (\"FAlSE\")\n",
    "            \n",
    "        elif (i) == 'the':\n",
    "            print (\"TRUE\")\n",
    "\n",
    "        if (i) == 'a':\n",
    "            print (\"FAlSE\")\n",
    "            \n",
    "        elif (i) == 'a':\n",
    "            print (\"TRUE\")\n",
    "            \n",
    "        if (i) == 'an':\n",
    "            print (\"FALSE\")\n",
    "            \n",
    "        elif (i) == 'an':\n",
    "            print (\"TRUE\")\n",
    "\n",
    "palabra_2 = (filter(filtro_palabra, lista_palabras))\n",
    "\n",
    "print(list(palabra_2))\n",
    "        \n"
   ]
  },
  {
   "cell_type": "code",
   "execution_count": null,
   "metadata": {},
   "outputs": [],
   "source": [
    "\n"
   ]
  },
  {
   "cell_type": "code",
   "execution_count": null,
   "metadata": {},
   "outputs": [],
   "source": []
  },
  {
   "cell_type": "markdown",
   "metadata": {},
   "source": [
    "Usa la función `filter()` para filtrar las palabras especificadas en la función `filtro_palabra()`. Guarda la lista filtrada en la variable `prophet_filter`.\n"
   ]
  },
  {
   "cell_type": "code",
   "execution_count": 68,
   "metadata": {
    "scrolled": true
   },
   "outputs": [
    {
     "ename": "NameError",
     "evalue": "name 'filtro_palabra' is not defined",
     "output_type": "error",
     "traceback": [
      "\u001b[1;31m---------------------------------------------------------------------------\u001b[0m",
      "\u001b[1;31mNameError\u001b[0m                                 Traceback (most recent call last)",
      "\u001b[1;32m~\\AppData\\Local\\Temp\\1\\ipykernel_23756\\4253535138.py\u001b[0m in \u001b[0;36m<module>\u001b[1;34m\u001b[0m\n\u001b[1;32m----> 1\u001b[1;33m \u001b[0mprophet_filter\u001b[0m \u001b[1;33m=\u001b[0m \u001b[1;33m(\u001b[0m\u001b[0mfilter\u001b[0m\u001b[1;33m(\u001b[0m\u001b[0mfiltro_palabra\u001b[0m\u001b[1;33m(\u001b[0m\u001b[1;33m)\u001b[0m\u001b[1;33m)\u001b[0m\u001b[1;33m)\u001b[0m\u001b[1;33m\u001b[0m\u001b[1;33m\u001b[0m\u001b[0m\n\u001b[0m",
      "\u001b[1;31mNameError\u001b[0m: name 'filtro_palabra' is not defined"
     ]
    }
   ],
   "source": [
    "prophet_filter = (filter(filtro_palabra()))"
   ]
  },
  {
   "cell_type": "markdown",
   "metadata": {},
   "source": [
    "# Desafío extra\n",
    "\n",
    "Reescribe la función `filtro_palabra` de arriba para que no sea sensible a mayúsculas y minúsculas."
   ]
  },
  {
   "cell_type": "code",
   "execution_count": 70,
   "metadata": {},
   "outputs": [],
   "source": [
    "def word_filter_case(x):\n",
    "   \n",
    "    word_list = ['and', 'the', 'a', 'an']\n",
    "    \n",
    "    # your code here\n",
    "    counting = sum([x.lower().count(i) for i in word_list])\n",
    "    return False if counting > 0 else True"
   ]
  },
  {
   "cell_type": "markdown",
   "metadata": {},
   "source": [
    "# Desafío 3 - Reducing\n",
    "\n",
    "#### Ahora que hemos limpiado significativamente nuestro corpus de texto, usemos la función `reduce()` para volver a unir las palabras en una cadena larga separada por espacios.\n",
    "\n",
    "Comenzaremos escribiendo una función que toma dos cadenas y las concatena juntas con un espacio entre las dos cadenas.\n"
   ]
  },
  {
   "cell_type": "code",
   "execution_count": null,
   "metadata": {},
   "outputs": [],
   "source": [
    "def concatenar_espacio(a, b):\n",
    "    '''\n",
    "    Entrada: Dos cadenas\n",
    "    Salida: Una única cadena separada por un espacio\n",
    "        \n",
    "    Ejemplo:\n",
    "    Entrada: 'John', 'Smith'\n",
    "    Salida: 'John Smith'\n",
    "    '''\n",
    "    \n",
    "    # tu código aquí"
   ]
  },
  {
   "cell_type": "code",
   "execution_count": 74,
   "metadata": {
    "scrolled": true
   },
   "outputs": [
    {
     "name": "stdout",
     "output_type": "stream",
     "text": [
      "John Smith\n"
     ]
    }
   ],
   "source": [
    "# tu código aquí\n",
    "from functools import reduce\n",
    "\n",
    "nombres = [\"John\", \"Smith\"]\n",
    "\n",
    "def concatenar_espacio(a,b):\n",
    "    return a+\" \"+ b\n",
    "\n",
    "print(reduce(concatenar_espacio, nombres))\n",
    "\n",
    "\n"
   ]
  },
  {
   "cell_type": "markdown",
   "metadata": {},
   "source": [
    "Usa la función de arriba para reducir el corpus de texto en la lista `prophet_filter` a una única cadena. Asigna esta nueva cadena a la variable `prophet_string`."
   ]
  },
  {
   "cell_type": "code",
   "execution_count": null,
   "metadata": {},
   "outputs": [],
   "source": [
    "# tu código aquí"
   ]
  }
 ],
 "metadata": {
  "kernelspec": {
   "display_name": "Python 3 (ipykernel)",
   "language": "python",
   "name": "python3"
  },
  "language_info": {
   "codemirror_mode": {
    "name": "ipython",
    "version": 3
   },
   "file_extension": ".py",
   "mimetype": "text/x-python",
   "name": "python",
   "nbconvert_exporter": "python",
   "pygments_lexer": "ipython3",
   "version": "3.9.13"
  }
 },
 "nbformat": 4,
 "nbformat_minor": 4
}
