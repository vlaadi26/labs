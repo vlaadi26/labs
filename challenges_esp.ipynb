{
 "cells": [
  {
   "cell_type": "markdown",
   "metadata": {},
   "source": [
    "## Desafío 1: Tuplas\n",
    "\n",
    "#### ¿Sabías que puedes crear tuplas con solo un elemento?\n",
    "\n",
    "**En la celda de abajo, define una variable `tup` con un único elemento `\"I\"`.**"
   ]
  },
  {
   "cell_type": "code",
   "execution_count": 5,
   "metadata": {},
   "outputs": [
    {
     "data": {
      "text/plain": [
       "'I'"
      ]
     },
     "execution_count": 5,
     "metadata": {},
     "output_type": "execute_result"
    }
   ],
   "source": [
    "# Tu codígo aquí\n",
    "\n",
    "tup = (\"I\")\n",
    "tup"
   ]
  },
  {
   "cell_type": "markdown",
   "metadata": {},
   "source": [
    "#### Imprime el tipo de `tup`.\n",
    "\n",
    "Asegúrate de que su tipo sea correcto (es decir, *tuple* en lugar de *str*)."
   ]
  },
  {
   "cell_type": "code",
   "execution_count": 14,
   "metadata": {},
   "outputs": [
    {
     "data": {
      "text/plain": [
       "str"
      ]
     },
     "execution_count": 14,
     "metadata": {},
     "output_type": "execute_result"
    }
   ],
   "source": [
    "# Tu codígo aquí\n",
    "type(\"tup\")"
   ]
  },
  {
   "cell_type": "markdown",
   "metadata": {},
   "source": [
    "#### Ahora intenta agregar los siguientes elementos a `tup`.\n",
    "\n",
    "¿Puedes hacerlo? Explica.\n",
    "\n",
    "```\n",
    "\"r\", \"o\", \"n\", \"h\", \"a\", \"c\", \"k',\n",
    "```"
   ]
  },
  {
   "cell_type": "code",
   "execution_count": 21,
   "metadata": {
    "scrolled": true
   },
   "outputs": [
    {
     "ename": "SyntaxError",
     "evalue": "unterminated string literal (detected at line 3) (1196437327.py, line 3)",
     "output_type": "error",
     "traceback": [
      "\u001b[0;36m  Cell \u001b[0;32mIn[21], line 3\u001b[0;36m\u001b[0m\n\u001b[0;31m    tup.append (\"r\", \"o\", \"n\", \"h\", \"a\", \"c\", \"k')\u001b[0m\n\u001b[0m                                              ^\u001b[0m\n\u001b[0;31mSyntaxError\u001b[0m\u001b[0;31m:\u001b[0m unterminated string literal (detected at line 3)\n"
     ]
    }
   ],
   "source": [
    "# Tu codígo aquí\n",
    "tup = []\n",
    "tup.append (\"r\", \"o\", \"n\", \"h\", \"a\", \"c\", \"k')\n",
    "\n",
    "print(tup)\n",
    "            \n",
    "# Tu explicación aquí\n",
    "            no se pueden añadir elementos a una tupa, es inamovible."
   ]
  },
  {
   "cell_type": "markdown",
   "metadata": {},
   "source": [
    "#### ¿Qué tal si reasignas un nuevo valor a una tupla existente?\n",
    "\n",
    "Reasigna los siguientes elementos a `tup`. ¿Puedes hacerlo? Explica.\n",
    "\n",
    "```\n",
    "\"I\", \"r\", \"o\", \"n\", \"h\", \"a\", \"c\", \"k\"\n",
    "```"
   ]
  },
  {
   "cell_type": "code",
   "execution_count": 23,
   "metadata": {},
   "outputs": [
    {
     "data": {
      "text/plain": [
       "('I', 'r', 'o', 'n', 'h', 'a', 'c', 'k')"
      ]
     },
     "execution_count": 23,
     "metadata": {},
     "output_type": "execute_result"
    }
   ],
   "source": [
    "# Tu codígo aquí\n",
    "tup = (\"I\", \"r\", \"o\", \"n\", \"h\", \"a\", \"c\", \"k\")\n",
    "tup"
   ]
  },
  {
   "cell_type": "markdown",
   "metadata": {},
   "source": [
    "#### Divide `tup` en `tup1` y `tup2` con 4 elementos en cada una.\n",
    "\n",
    "`tup1` debe ser `(\"I\", \"r\", \"o\", \"n\")` y `tup2` debe ser `(\"h\", \"a\", \"c\", \"k\")`.\n",
    "\n",
    "*Sugerencia: usa números de índice positivos para la asignación de `tup1` y números de índice negativos para la asignación de `tup2`. Los números de índice positivos cuentan desde el principio, mientras que los números de índice negativos cuentan desde el final de la secuencia.*\n",
    "\n",
    "También imprime `tup1` y `tup2`."
   ]
  },
  {
   "cell_type": "code",
   "execution_count": 34,
   "metadata": {},
   "outputs": [
    {
     "name": "stdout",
     "output_type": "stream",
     "text": [
      "('I', 'r', 'o', 'n')\n",
      "('h', 'a', 'c', 'k')\n"
     ]
    }
   ],
   "source": [
    "# Tu codígo aquí\n",
    "tup1= tup[0:4]\n",
    "tup2= tup[4:8]\n",
    "print(tup1)\n",
    "print(tup2)"
   ]
  },
  {
   "cell_type": "markdown",
   "metadata": {},
   "source": [
    "#### Suma `tup1` y `tup2` en `tup3` usando el operador `+`.\n",
    "\n",
    "Luego imprime `tup3` y verifica si `tup3` es igual a `tup`."
   ]
  },
  {
   "cell_type": "code",
   "execution_count": 48,
   "metadata": {},
   "outputs": [
    {
     "name": "stdout",
     "output_type": "stream",
     "text": [
      "('I', 'r', 'o', 'n', 'h', 'a', 'c', 'k')\n"
     ]
    },
    {
     "data": {
      "text/plain": [
       "True"
      ]
     },
     "execution_count": 48,
     "metadata": {},
     "output_type": "execute_result"
    }
   ],
   "source": [
    "# Tu codígo aquí\n",
    "tup3 = (tup1+tup2)\n",
    "print(tup3)\n",
    "\n",
    "tup3 == tup"
   ]
  },
  {
   "cell_type": "markdown",
   "metadata": {},
   "source": [
    "#### Cuenta el número de elementos en `tup1` y `tup2`. Luego suma los dos conteos y verifica si la suma es igual al número de elementos en `tup3`."
   ]
  },
  {
   "cell_type": "code",
   "execution_count": 59,
   "metadata": {},
   "outputs": [
    {
     "name": "stdout",
     "output_type": "stream",
     "text": [
      "la tup1 tiene 4 elementos\n",
      "la tup2 tiene 4 elementos\n",
      "la tup3 tiene 8 elementos\n"
     ]
    },
    {
     "data": {
      "text/plain": [
       "True"
      ]
     },
     "execution_count": 59,
     "metadata": {},
     "output_type": "execute_result"
    }
   ],
   "source": [
    "# Tu codígo aquí\n",
    "longitud1 = len(tup1)\n",
    "longitud2 = len(tup2)\n",
    "longitud3 = len(tup3)\n",
    "\n",
    "print(f\"la tup1 tiene {longitud1} elementos\")\n",
    "print(f\"la tup2 tiene {longitud2} elementos\")\n",
    "print(f\"la tup3 tiene {longitud3} elementos\")\n",
    "\n",
    "longitud12 = (longitud1+longitud2)\n",
    "\n",
    "longitud12 == longitud3"
   ]
  },
  {
   "cell_type": "markdown",
   "metadata": {},
   "source": [
    "#### ¿Cuál es el número de índice de `\"h\"` en `tup3`?"
   ]
  },
  {
   "cell_type": "code",
   "execution_count": 64,
   "metadata": {},
   "outputs": [
    {
     "data": {
      "text/plain": [
       "4"
      ]
     },
     "execution_count": 64,
     "metadata": {},
     "output_type": "execute_result"
    }
   ],
   "source": [
    "# Tu codígo aquí\n",
    "tup3.index(\"h\")"
   ]
  },
  {
   "cell_type": "markdown",
   "metadata": {},
   "source": [
    "#### Ahora, usa un bucle FOR para verificar si cada letra en la siguiente lista está presente en `tup3`:\n",
    "\n",
    "\n",
    "```\n",
    "letters = [\"a\", \"b\", \"c\", \"d\", \"e\"]\n",
    "```\n",
    "\n",
    "\n",
    "Para cada letra que verifiques, imprime `True` si está presente en `tup3`, de lo contrario imprime `False`.\n",
    "\n",
    "*Sugerencia: solo necesitas hacer un bucle con `letters`. No necesitas hacer un bucle con `tup3` porque hay un operador de Python `in` que puedes usar. Consulta la [referencia](https://stackoverflow.com/questions/17920147/how-to-check-if-a-tuple-contains-an-element-in-python).*"
   ]
  },
  {
   "cell_type": "code",
   "execution_count": 92,
   "metadata": {},
   "outputs": [],
   "source": [
    "# Tu codígo aquí\n",
    "letters = [\"a\", \"b\", \"c\", \"d\", \"e\"]"
   ]
  },
  {
   "cell_type": "code",
   "execution_count": 96,
   "metadata": {},
   "outputs": [
    {
     "name": "stdout",
     "output_type": "stream",
     "text": [
      " TRUE\n",
      "FALSE\n",
      " TRUE\n",
      "FALSE\n",
      "FALSE\n"
     ]
    }
   ],
   "source": [
    "# Tu codígo aquí\n",
    "if \"a\" in tup3:\n",
    "    print(\" TRUE\" )\n",
    "else:\n",
    "    print(\"FALSE\")\n",
    "\n",
    "if \"b\" in tup3:\n",
    "    print(\" TRUE\" )\n",
    "else:\n",
    "    print(\"FALSE\")\n",
    "\n",
    "if \"c\" in tup3:\n",
    "    print(\" TRUE\" )\n",
    "else:\n",
    "    print(\"FALSE\")\n",
    "\n",
    "if \"d\" in tup3:\n",
    "    print(\" TRUE\" )\n",
    "else:\n",
    "    print(\"FALSE\")\n",
    "\n",
    "if \"3\" in tup3:\n",
    "    print(\" TRUE\" )\n",
    "else:\n",
    "    print(\"FALSE\")"
   ]
  },
  {
   "cell_type": "markdown",
   "metadata": {},
   "source": [
    "#### ¿Cuántas veces aparece cada letra de `letters` en `tup3`?\n",
    "\n",
    "Imprime el número de ocurrencias de cada letra."
   ]
  },
  {
   "cell_type": "code",
   "execution_count": 112,
   "metadata": {},
   "outputs": [
    {
     "name": "stdout",
     "output_type": "stream",
     "text": [
      "La letra a aparece 1 veces en la tup3\n",
      "La letra b aparece 0 veces en la tup3\n",
      "La letra c aparece 1 veces en la tup3\n",
      "La letra d aparece 0 veces en la tup3\n",
      "La letra e aparece 0 veces en la tup3\n"
     ]
    }
   ],
   "source": [
    "# Tu codígo aquí\n",
    "conteo = tup3.count(letters[0])\n",
    "print(f\"La letra {letters[0]} aparece {conteo} veces en la tup3\")\n",
    "conteo = tup3.count(letters[1])\n",
    "print(f\"La letra {letters[1]} aparece {conteo} veces en la tup3\")\n",
    "conteo = tup3.count(letters[2])\n",
    "print(f\"La letra {letters[2]} aparece {conteo} veces en la tup3\")\n",
    "conteo = tup3.count(letters[3])\n",
    "print(f\"La letra {letters[3]} aparece {conteo} veces en la tup3\")\n",
    "conteo = tup3.count(letters[4])\n",
    "print(f\"La letra {letters[4]} aparece {conteo} veces en la tup3\")"
   ]
  },
  {
   "cell_type": "markdown",
   "metadata": {},
   "source": [
    "## Desafío 2: Conjuntos\n",
    "\n",
    "Hay mucho que aprender sobre los Conjuntos en Python y la información presentada en la lección es limitada debido a su longitud. Para aprender a fondo sobre los Conjuntos en Python, te recomendamos encarecidamente que revises el tutorial de W3Schools sobre [Ejemplos y Métodos de Conjuntos en Python](https://www.w3schools.com/python/python_sets.asp) antes de trabajar en este laboratorio. Algunas preguntas difíciles de este laboratorio tienen sus soluciones en el tutorial de W3Schools.\n",
    "\n",
    "#### Primero, importa la biblioteca `random` de Python."
   ]
  },
  {
   "cell_type": "code",
   "execution_count": 114,
   "metadata": {},
   "outputs": [],
   "source": [
    "import random"
   ]
  },
  {
   "cell_type": "markdown",
   "metadata": {},
   "source": [
    "#### En la celda de abajo, crea una lista llamada `sample_list_1` con 80 valores aleatorios.\n",
    "\n",
    "Requisitos:\n",
    "\n",
    "* Cada valor es un entero entre 0 y 100.\n",
    "* Cada valor en la lista es único.\n",
    "\n",
    "Imprime `sample_list_1` para revisar sus valores.\n",
    "\n",
    "*Sugerencia: usa `random.sample` ([referencia](https://docs.python.org/3/library/random.html#random.sample)).*"
   ]
  },
  {
   "cell_type": "code",
   "execution_count": 228,
   "metadata": {},
   "outputs": [
    {
     "name": "stdout",
     "output_type": "stream",
     "text": [
      "[0, 80, 38, 58, 77, 42, 65, 72, 94, 25, 86, 85, 7, 52, 30, 3, 18, 27, 13, 40, 19, 28, 81, 97, 75, 96, 78, 68, 87, 93, 6, 22, 12, 39, 91, 60, 8, 74, 11, 54, 82, 98, 69, 14, 67, 50, 46, 20, 83, 29, 92, 66, 88, 57, 15, 71, 55, 84, 95, 34, 73, 64, 31, 23, 43, 99, 4, 9, 1, 32, 59, 5, 70, 90, 47, 36, 62, 24, 10, 79]\n"
     ]
    },
    {
     "data": {
      "text/plain": [
       "80"
      ]
     },
     "execution_count": 228,
     "metadata": {},
     "output_type": "execute_result"
    }
   ],
   "source": [
    "# tu codigo aquí\n",
    "sample_list_1 = random.sample(range(100), k = 80)\n",
    "print(sample_list_1)\n",
    "len(set1)"
   ]
  },
  {
   "cell_type": "markdown",
   "metadata": {},
   "source": [
    "#### Convierte `sample_list_1` en un conjunto llamado `set1`. Imprime la longitud del conjunto. ¿Su longitud sigue siendo 80?"
   ]
  },
  {
   "cell_type": "code",
   "execution_count": 185,
   "metadata": {},
   "outputs": [
    {
     "name": "stdout",
     "output_type": "stream",
     "text": [
      "{0, 2, 3, 5, 6, 7, 9, 10, 11, 13, 14, 15, 16, 17, 18, 20, 21, 22, 23, 24, 25, 26, 29, 30, 33, 34, 35, 36, 37, 39, 40, 41, 42, 43, 44, 45, 46, 47, 48, 52, 53, 54, 55, 57, 58, 60, 61, 62, 63, 64, 66, 67, 68, 69, 71, 72, 73, 74, 75, 76, 77, 78, 79, 80, 81, 82, 83, 84, 85, 89, 90, 91, 92, 93, 94, 95, 96, 97, 98, 99}\n",
      "largo es : 80\n"
     ]
    }
   ],
   "source": [
    "# tu codigo aquí\n",
    "set1= set(sample_list_1)\n",
    "print(set1)\n",
    "print(f\"largo es : {len(set1)}\")"
   ]
  },
  {
   "cell_type": "markdown",
   "metadata": {},
   "source": [
    "#### Crea otra lista llamada `sample_list_2` con 80 valores aleatorios.\n",
    "\n",
    "Requisitos:\n",
    "\n",
    "* Cada valor es un entero entre 0 y 100.\n",
    "* Los valores en la lista no tienen que ser únicos.\n",
    "\n",
    "*Sugerencia: Usa un bucle FOR.*"
   ]
  },
  {
   "cell_type": "code",
   "execution_count": 191,
   "metadata": {},
   "outputs": [
    {
     "name": "stdout",
     "output_type": "stream",
     "text": [
      "[77, 83, 32, 14, 13, 93, 16, 77, 98, 53, 26, 17, 74, 39, 45, 20, 57, 84, 0, 26, 4, 5, 15, 77, 90, 83, 42, 36, 45, 71, 79, 35, 12, 96, 14, 54, 54, 27, 97, 19, 20, 64, 85, 30, 36, 58, 31, 64, 45, 15, 68, 93, 61, 55, 83, 31, 12, 88, 82, 38, 43, 24, 82, 90, 67, 75, 46, 3, 49, 0, 69, 85, 14, 18, 45, 90, 44, 28, 30, 3]\n",
      "Length: 80\n"
     ]
    }
   ],
   "source": [
    "# tu codigo aquí\n",
    "sample_list_2 = []\n",
    "for x in range(80):\n",
    "    sample_list_2.append(random.sample(range(100), k=1).pop())\n",
    "print(sample_list_2)\n",
    "print(f\"Length: {len(sample_list_2)}\")\n"
   ]
  },
  {
   "cell_type": "markdown",
   "metadata": {},
   "source": [
    "#### Convierte `sample_list_2` en un conjunto llamado `set2`. Imprime la longitud del conjunto. ¿Su longitud sigue siendo 80?"
   ]
  },
  {
   "cell_type": "code",
   "execution_count": 198,
   "metadata": {},
   "outputs": [
    {
     "name": "stdout",
     "output_type": "stream",
     "text": [
      "{0, 3, 4, 5, 12, 13, 14, 15, 16, 17, 18, 19, 20, 24, 26, 27, 28, 30, 31, 32, 35, 36, 38, 39, 42, 43, 44, 45, 46, 49, 53, 54, 55, 57, 58, 61, 64, 67, 68, 69, 71, 74, 75, 77, 79, 82, 83, 84, 85, 88, 90, 93, 96, 97, 98}\n",
      "largo es : 55\n"
     ]
    }
   ],
   "source": [
    "# tu codigo aquí\n",
    "set2 = set(sample_list_2)\n",
    "print(set2)\n",
    "print(f\"largo es : {len(set2)}\")\n",
    "\n",
    "# Es menor ya que hay elementos repetidos."
   ]
  },
  {
   "cell_type": "markdown",
   "metadata": {},
   "source": [
    "#### Identifica los elementos presentes en `set1` pero no en `set2`. Asigna los elementos a un nuevo conjunto llamado `set3`."
   ]
  },
  {
   "cell_type": "code",
   "execution_count": 216,
   "metadata": {},
   "outputs": [
    {
     "name": "stdout",
     "output_type": "stream",
     "text": [
      "{2, 6, 7, 9, 10, 11, 21, 22, 23, 25, 29, 33, 34, 37, 40, 41, 47, 48, 52, 60, 62, 63, 66, 72, 73, 76, 78, 80, 81, 89, 91, 92, 94, 95, 99}\n",
      "largo es: 35\n"
     ]
    }
   ],
   "source": [
    "# tu codigo aquí\n",
    "set3 = set1.difference(set2)\n",
    "print(set3)\n",
    "print(f\"largo es: {len(set3)}\")\n"
   ]
  },
  {
   "cell_type": "markdown",
   "metadata": {},
   "source": [
    "#### Identifica los elementos presentes en `set2` pero no en `set1`. Asigna los elementos a un nuevo conjunto llamado `set4`."
   ]
  },
  {
   "cell_type": "code",
   "execution_count": 219,
   "metadata": {},
   "outputs": [
    {
     "name": "stdout",
     "output_type": "stream",
     "text": [
      "{32, 4, 38, 12, 49, 19, 88, 27, 28, 31}\n",
      "largo es: 10\n"
     ]
    }
   ],
   "source": [
    "# tu codigo aquí\n",
    "set4 = set2.difference(set1)\n",
    "print(set4)\n",
    "print(f\"largo es: {len(set4)}\")\n"
   ]
  },
  {
   "cell_type": "markdown",
   "metadata": {},
   "source": [
    "#### Ahora identifica los elementos compartidos entre `set1` y `set2`. Asigna los elementos a un nuevo conjunto llamado `set5`."
   ]
  },
  {
   "cell_type": "code",
   "execution_count": 223,
   "metadata": {},
   "outputs": [
    {
     "name": "stdout",
     "output_type": "stream",
     "text": [
      "{0, 3, 5, 13, 14, 15, 16, 17, 18, 20, 24, 26, 30, 35, 36, 39, 42, 43, 44, 45, 46, 53, 54, 55, 57, 58, 61, 64, 67, 68, 69, 71, 74, 75, 77, 79, 82, 83, 84, 85, 90, 93, 96, 97, 98}\n",
      "largo es: 45\n"
     ]
    }
   ],
   "source": [
    "# tu codigo aquí\n",
    "set5 = set1.intersection(set2)\n",
    "print(set5)\n",
    "print(f\"largo es: {len(set5)}\")\n"
   ]
  },
  {
   "cell_type": "markdown",
   "metadata": {},
   "source": [
    "#### ¿Cuál es la relación entre los siguientes valores?\n",
    "\n",
    "* len(set1)\n",
    "* len(set2)\n",
    "* len(set3)\n",
    "* len(set4)\n",
    "* len(set5)\n",
    "\n",
    "Usa una fórmula matemática para representar esa relación. Prueba tu fórmula con código Python."
   ]
  },
  {
   "cell_type": "code",
   "execution_count": 246,
   "metadata": {},
   "outputs": [
    {
     "name": "stdout",
     "output_type": "stream",
     "text": [
      " longitud es 80\n",
      " longitud es 55\n",
      " longitud es 35\n",
      " longitud es 10\n",
      " longitud es 45\n"
     ]
    },
    {
     "data": {
      "text/plain": [
       "True"
      ]
     },
     "execution_count": 246,
     "metadata": {},
     "output_type": "execute_result"
    }
   ],
   "source": [
    "# tu codigo aquí\n",
    "print(f\" longitud es {len(set1)}\")\n",
    "print(f\" longitud es {len(set2)}\")\n",
    "print(f\" longitud es {len(set3)}\")\n",
    "print(f\" longitud es {len(set4)}\")\n",
    "print(f\" longitud es {len(set5)}\")\n",
    "\n",
    "len(set1) == len(set3) + len(set5)"
   ]
  },
  {
   "cell_type": "markdown",
   "metadata": {},
   "source": [
    "#### Crea un conjunto vacío llamado `set6`."
   ]
  },
  {
   "cell_type": "code",
   "execution_count": 263,
   "metadata": {},
   "outputs": [],
   "source": [
    "# tu codigo aquí\n",
    "set6 = set()\n"
   ]
  },
  {
   "cell_type": "markdown",
   "metadata": {},
   "source": [
    "#### Añade `set3` y `set5` a `set6` usando el método `update` de los Conjuntos de Python."
   ]
  },
  {
   "cell_type": "code",
   "execution_count": 265,
   "metadata": {},
   "outputs": [
    {
     "name": "stdout",
     "output_type": "stream",
     "text": [
      " ahora set tiene 80 numeros\n",
      "{0, 2, 3, 5, 6, 7, 9, 10, 11, 13, 14, 15, 16, 17, 18, 20, 21, 22, 23, 24, 25, 26, 29, 30, 33, 34, 35, 36, 37, 39, 40, 41, 42, 43, 44, 45, 46, 47, 48, 52, 53, 54, 55, 57, 58, 60, 61, 62, 63, 64, 66, 67, 68, 69, 71, 72, 73, 74, 75, 76, 77, 78, 79, 80, 81, 82, 83, 84, 85, 89, 90, 91, 92, 93, 94, 95, 96, 97, 98, 99}\n"
     ]
    }
   ],
   "source": [
    "# tu codigo aquí\n",
    "set6.update(set3)\n",
    "set6.update(set5)\n",
    "print(f\" ahora set tiene {len(set6)} numeros\")\n",
    "print(set6)"
   ]
  },
  {
   "cell_type": "markdown",
   "metadata": {},
   "source": [
    "#### Verifica si `set1` y `set6` son iguales."
   ]
  },
  {
   "cell_type": "code",
   "execution_count": 269,
   "metadata": {},
   "outputs": [
    {
     "data": {
      "text/plain": [
       "True"
      ]
     },
     "execution_count": 269,
     "metadata": {},
     "output_type": "execute_result"
    }
   ],
   "source": [
    "# tu codigo aquí\n",
    "\n",
    "set1 == set6"
   ]
  },
  {
   "cell_type": "markdown",
   "metadata": {},
   "source": [
    "#### Comprueba si `set1` contiene a `set2` utilizando el método `issubset` de los Conjuntos de Python. Luego verifica si `set1` contiene a `set3`."
   ]
  },
  {
   "cell_type": "code",
   "execution_count": 279,
   "metadata": {},
   "outputs": [
    {
     "name": "stdout",
     "output_type": "stream",
     "text": [
      "False\n",
      "True\n"
     ]
    }
   ],
   "source": [
    "# tu codigo aquí\n",
    "comprobacion = set2.issubset(set1)\n",
    "print(comprobacion)\n",
    "comprobacion_2 = set3.issubset(set1)\n",
    "print(comprobacion_2)"
   ]
  },
  {
   "cell_type": "markdown",
   "metadata": {},
   "source": [
    "#### Utilizando el método `union` de los Conjuntos de Python, agrega `set3`, `set4` y `set5`. Luego agrega `set1` y `set2`.\n",
    "\n",
    "#### Verifica si los valores agregados son iguales."
   ]
  },
  {
   "cell_type": "code",
   "execution_count": 294,
   "metadata": {},
   "outputs": [
    {
     "name": "stdout",
     "output_type": "stream",
     "text": [
      "{0, 2, 3, 4, 5, 6, 7, 9, 10, 11, 12, 13, 14, 15, 16, 17, 18, 19, 20, 21, 22, 23, 24, 25, 26, 27, 28, 29, 30, 31, 32, 33, 34, 35, 36, 37, 38, 39, 40, 41, 42, 43, 44, 45, 46, 47, 48, 49, 52, 53, 54, 55, 57, 58, 60, 61, 62, 63, 64, 66, 67, 68, 69, 71, 72, 73, 74, 75, 76, 77, 78, 79, 80, 81, 82, 83, 84, 85, 88, 89, 90, 91, 92, 93, 94, 95, 96, 97, 98, 99}\n",
      " la longitud es de 90\n",
      "{0, 2, 3, 4, 5, 6, 7, 9, 10, 11, 12, 13, 14, 15, 16, 17, 18, 19, 20, 21, 22, 23, 24, 25, 26, 27, 28, 29, 30, 31, 32, 33, 34, 35, 36, 37, 38, 39, 40, 41, 42, 43, 44, 45, 46, 47, 48, 49, 52, 53, 54, 55, 57, 58, 60, 61, 62, 63, 64, 66, 67, 68, 69, 71, 72, 73, 74, 75, 76, 77, 78, 79, 80, 81, 82, 83, 84, 85, 88, 89, 90, 91, 92, 93, 94, 95, 96, 97, 98, 99}\n",
      " la longitud nueva es de 90\n"
     ]
    }
   ],
   "source": [
    "# tu codigo aquí\n",
    "union = set3.union(set4)\n",
    "union_2 = union.union(set5)\n",
    "print(union_2)\n",
    "print(f\" la longitud es de {len(union_2)}\")\n",
    "\n",
    "union_3 = union_2.union(set1)\n",
    "union_4 = union_3.union(set2)\n",
    "print(union_4)\n",
    "print(f\" la longitud nueva es de {len(union_4)}\")\n",
    "\n",
    "union_2 = union_4\n"
   ]
  },
  {
   "cell_type": "code",
   "execution_count": 297,
   "metadata": {},
   "outputs": [
    {
     "data": {
      "text/plain": [
       "True"
      ]
     },
     "execution_count": 297,
     "metadata": {},
     "output_type": "execute_result"
    }
   ],
   "source": [
    "union_2 == union_4"
   ]
  },
  {
   "cell_type": "markdown",
   "metadata": {},
   "source": [
    "#### Utilizando el método `pop`, elimina el primer elemento de `set1`."
   ]
  },
  {
   "cell_type": "code",
   "execution_count": 306,
   "metadata": {},
   "outputs": [
    {
     "name": "stdout",
     "output_type": "stream",
     "text": [
      "0\n"
     ]
    }
   ],
   "source": [
    "# tu codigo aquí\n",
    "set1_pop = set1.pop()\n",
    "print(set1_pop)\n",
    "\n",
    "# Eliminar un elemento de un conjunto\n",
    "# En realidad un conjunto es una colección desordenada...\n",
    "# ... No se puede acceder a los elementos a través de un índice.\n",
    "# Y además la función pop() elemina (y devuelve) un elemento aleatorio...\n",
    "# Por esto creo que NO podemos eliminar 'el primer' elemento de set1."
   ]
  },
  {
   "cell_type": "markdown",
   "metadata": {},
   "source": [
    "#### Elimina cada elemento en la siguiente lista de `set1` si están presentes en el conjunto. Imprime los elementos restantes.\n",
    "\n",
    "```\n",
    "list_to_remove = [1, 9, 11, 19, 21, 29, 31, 39, 41, 49, 51, 59, 61, 69, 71, 79, 81, 89, 91, 99]\n",
    "```"
   ]
  },
  {
   "cell_type": "code",
   "execution_count": 335,
   "metadata": {},
   "outputs": [
    {
     "name": "stdout",
     "output_type": "stream",
     "text": [
      "{2, 3, 5, 6, 7, 10, 13, 14, 15, 16, 17, 18, 20, 22, 23, 24, 25, 26, 30, 33, 34, 35, 36, 37, 40, 42, 43, 44, 45, 46, 47, 48, 52, 53, 54, 55, 57, 58, 60, 62, 63, 64, 66, 67, 68, 72, 73, 74, 75, 76, 77, 78, 80, 82, 83, 84, 85, 90, 92, 93, 94, 95, 96, 97, 98}\n",
      " set1 tiene una longitud de 65\n",
      "set1 ahora tiene una longitud de 65\n"
     ]
    }
   ],
   "source": [
    "# tu codigo aquí\n",
    "print(set1)\n",
    "print(f\" set1 tiene una longitud de {len(set1)}\")\n",
    "\n",
    "list_to_remove = [1, 9, 11, 19, 21, 29, 31, 39, 41, 49, 51, 59, 61, 69, 71, 79, 81, 89, 91, 99]\n",
    "for item in list_to_remove:\n",
    "    set1.discard(item)\n",
    "\n",
    "print(f\"set1 ahora tiene una longitud de {len(set1)}\")"
   ]
  },
  {
   "cell_type": "markdown",
   "metadata": {},
   "source": [
    "## BONUS - Desafío 3: Diccionarios\n",
    "\n",
    "En este desafío practicarás cómo manipular diccionarios en Python. Antes de empezar este desafío, te animamos a revisar los [Ejemplos y Métodos de Diccionarios en Python](https://www.w3schools.com/python/python_dictionaries.asp) de W3School.\n",
    "\n",
    "Lo primero que practicarás es cómo ordenar las claves en un diccionario. A diferencia del objeto de lista, el diccionario de Python no tiene un método *sort* incorporado. Necesitarás usar bucles FOR para ordenar los diccionarios ya sea por clave o por valor.\n",
    "\n",
    "El diccionario a continuación es un resumen de la frecuencia de palabras de la canción *Shape of You* de Ed Sheeran. Cada clave es una palabra en la letra y el valor es el número de veces que esa palabra aparece en la letra."
   ]
  },
  {
   "cell_type": "code",
   "execution_count": 345,
   "metadata": {},
   "outputs": [
    {
     "name": "stdout",
     "output_type": "stream",
     "text": [
      "3.12.4\n"
     ]
    }
   ],
   "source": [
    "\n",
    "word_freq = {'love': 25, 'conversation': 1, 'every': 6, \"we're\": 1, 'plate': 1, 'sour': 1, 'jukebox': 1, 'now': 11, 'taxi': 1, 'fast': 1, 'bag': 1, 'man': 1, 'push': 3, 'baby': 14, 'going': 1, 'you': 16, \"don't\": 2, 'one': 1, 'mind': 2, 'backseat': 1, 'friends': 1, 'then': 3, 'know': 2, 'take': 1, 'play': 1, 'okay': 1, 'so': 2, 'begin': 1, 'start': 2, 'over': 1, 'body': 17, 'boy': 2, 'just': 1, 'we': 7, 'are': 1, 'girl': 2, 'tell': 1, 'singing': 2, 'drinking': 1, 'put': 3, 'our': 1, 'where': 1, \"i'll\": 1, 'all': 1, \"isn't\": 1, 'make': 1, 'lover': 1, 'get': 1, 'radio': 1, 'give': 1, \"i'm\": 23, 'like': 10, 'can': 1, 'doing': 2, 'with': 22, 'club': 1, 'come': 37, 'it': 1, 'somebody': 2, 'handmade': 2, 'out': 1, 'new': 6, 'room': 3, 'chance': 1, 'follow': 6, 'in': 27, 'may': 2, 'brand': 6, 'that': 2, 'magnet': 3, 'up': 3, 'first': 1, 'and': 23, 'pull': 3, 'of': 6, 'table': 1, 'much': 2, 'last': 3, 'i': 6, 'thrifty': 1, 'grab': 2, 'was': 2, 'driver': 1, 'slow': 1, 'dance': 1, 'the': 18, 'say': 2, 'trust': 1, 'family': 1, 'week': 1, 'date': 1, 'me': 10, 'do': 3, 'waist': 2, 'smell': 3, 'day': 6, 'although': 3, 'your': 21, 'leave': 1, 'want': 2, \"let's\": 2, 'lead': 6, 'at': 1, 'hand': 1, 'how': 1, 'talk': 4, 'not': 2, 'eat': 1, 'falling': 3, 'about': 1, 'story': 1, 'sweet': 1, 'best': 1, 'crazy': 2, 'let': 1, 'too': 5, 'van': 1, 'shots': 1, 'go': 2, 'to': 2, 'a': 8, 'my': 33, 'is': 5, 'place': 1, 'find': 1, 'shape': 6, 'on': 40, 'kiss': 1, 'were': 3, 'night': 3, 'heart': 3, 'for': 3, 'discovering': 6, 'something': 6, 'be': 16, 'bedsheets': 3, 'fill': 2, 'hours': 2, 'stop': 1, 'bar': 1}\n",
    "# According to W3Schools:\n",
    "# \"**As of Python version 3.7, dictionaries are ordered. \n",
    "#   In Python 3.6 and earlier, dictionaries are unordered.\"\n",
    "\n",
    "from platform import python_version\n",
    "print(python_version())"
   ]
  },
  {
   "cell_type": "code",
   "execution_count": 347,
   "metadata": {},
   "outputs": [
    {
     "name": "stdout",
     "output_type": "stream",
     "text": [
      "{'love': 25, 'conversation': 1, 'every': 6, \"we're\": 1, 'plate': 1, 'sour': 1, 'jukebox': 1, 'now': 11, 'taxi': 1, 'fast': 1, 'bag': 1, 'man': 1, 'push': 3, 'baby': 14, 'going': 1, 'you': 16, \"don't\": 2, 'one': 1, 'mind': 2, 'backseat': 1, 'friends': 1, 'then': 3, 'know': 2, 'take': 1, 'play': 1, 'okay': 1, 'so': 2, 'begin': 1, 'start': 2, 'over': 1, 'body': 17, 'boy': 2, 'just': 1, 'we': 7, 'are': 1, 'girl': 2, 'tell': 1, 'singing': 2, 'drinking': 1, 'put': 3, 'our': 1, 'where': 1, \"i'll\": 1, 'all': 1, \"isn't\": 1, 'make': 1, 'lover': 1, 'get': 1, 'radio': 1, 'give': 1, \"i'm\": 23, 'like': 10, 'can': 1, 'doing': 2, 'with': 22, 'club': 1, 'come': 37, 'it': 1, 'somebody': 2, 'handmade': 2, 'out': 1, 'new': 6, 'room': 3, 'chance': 1, 'follow': 6, 'in': 27, 'may': 2, 'brand': 6, 'that': 2, 'magnet': 3, 'up': 3, 'first': 1, 'and': 23, 'pull': 3, 'of': 6, 'table': 1, 'much': 2, 'last': 3, 'i': 6, 'thrifty': 1, 'grab': 2, 'was': 2, 'driver': 1, 'slow': 1, 'dance': 1, 'the': 18, 'say': 2, 'trust': 1, 'family': 1, 'week': 1, 'date': 1, 'me': 10, 'do': 3, 'waist': 2, 'smell': 3, 'day': 6, 'although': 3, 'your': 21, 'leave': 1, 'want': 2, \"let's\": 2, 'lead': 6, 'at': 1, 'hand': 1, 'how': 1, 'talk': 4, 'not': 2, 'eat': 1, 'falling': 3, 'about': 1, 'story': 1, 'sweet': 1, 'best': 1, 'crazy': 2, 'let': 1, 'too': 5, 'van': 1, 'shots': 1, 'go': 2, 'to': 2, 'a': 8, 'my': 33, 'is': 5, 'place': 1, 'find': 1, 'shape': 6, 'on': 40, 'kiss': 1, 'were': 3, 'night': 3, 'heart': 3, 'for': 3, 'discovering': 6, 'something': 6, 'be': 16, 'bedsheets': 3, 'fill': 2, 'hours': 2, 'stop': 1, 'bar': 1}\n"
     ]
    }
   ],
   "source": [
    "print(word_freq)"
   ]
  },
  {
   "cell_type": "markdown",
   "metadata": {},
   "source": [
    "#### Ordena las claves de `word_freq` de forma ascendente.\n",
    "\n",
    "Por favor, crea un nuevo diccionario llamado `word_freq2` basado en `word_freq` con las claves ordenadas de forma ascendente.\n",
    "\n",
    "Hay varias formas de lograr ese objetivo, pero muchas de ellas van más allá de lo que hemos cubierto hasta ahora en el curso. Hay una forma que describiremos empleando lo que has aprendido. Por favor, siéntete libre de usar esta forma o cualquier otra que desees.\n",
    "\n",
    "1. Primero extrae las claves de `word_freq` y conviértelas en una lista llamada `keys`.\n",
    "\n",
    "1. Ordena la lista `keys`.\n",
    "\n",
    "1. Crea un diccionario vacío `word_freq2`.\n",
    "\n",
    "1. Usa un bucle FOR para iterar cada valor en `keys`. Para cada clave iterada, encuentra el valor correspondiente en `word_freq` e inserta el par clave-valor en `word_freq2`.\n",
    "\n",
    "📖 [Documentación para un bucle for](https://docs.python.org/3/reference/compound_stmts.html#for)\n",
    "\n",
    "Imprime `word_freq2` para examinar sus claves y valores. Tu salida debería ser:\n",
    "\n",
    "```python\n",
    "{'a': 8, 'about': 1, 'all': 1, 'although': 3, 'and': 23, 'are': 1, 'at': 1, 'baby': 14, 'backseat': 1, 'bag': 1, 'bar': 1, 'be': 16, 'bedsheets': 3, 'begin': 1, 'best': 1, 'body': 17, 'boy': 2, 'brand': 6, 'can': 1, 'chance': 1, 'club': 1, 'come': 37, 'conversation': 1, 'crazy': 2, 'dance': 1, 'date': 1, 'day': 6, 'discovering': 6, 'do': 3, 'doing': 2, \"don't\": 2, 'drinking': 1, 'driver': 1, 'eat': 1, 'every': 6, 'falling': 3, 'family': 1, 'fast': 1, 'fill': 2, 'find': 1, 'first': 1, 'follow': 6, 'for': 3, 'friends': 1, 'get': 1, 'girl': 2, 'give': 1, 'go': 2, 'going': 1, 'grab': 2, 'hand': 1, 'handmade': 2, 'heart': 3, 'hours': 2, 'how': 1, 'i': 6, \"i'll\": 1, \"i'm\": 23, 'in': 27, 'is': 5, \"isn't\": 1, 'it': 1, 'jukebox': 1, 'just': 1, 'kiss': 1, 'know': 2, 'last': 3, 'lead': 6, 'leave': 1, 'let': 1, \"let's\": 2, 'like': 10, 'love': 25, 'lover': 1, 'magnet': 3, 'make': 1, 'man': 1, 'may': 2, 'me': 10, 'mind': 2, 'much': 2, 'my': 33, 'new': 6, 'night': 3, 'not': 2, 'now': 11, 'of': 6, 'okay': 1, 'on': 40, 'one': 1, 'our': 1, 'out': 1, 'over': 1, 'place': 1, 'plate': 1, 'play': 1, 'pull': 3, 'push': 3, 'put': 3, 'radio': 1, 'room': 3, 'say': 2, 'shape': 6, 'shots': 1, 'singing': 2, 'slow': 1, 'smell': 3, 'so': 2, 'somebody': 2, 'something': 6, 'sour': 1, 'start': 2, 'stop': 1, 'story': 1, 'sweet': 1, 'table': 1, 'take': 1, 'talk': 4, 'taxi': 1, 'tell': 1, 'that': 2, 'the': 18, 'then': 3, 'thrifty': 1, 'to': 2, 'too': 5, 'trust': 1, 'up': 3, 'van': 1, 'waist': 2, 'want': 2, 'was': 2, 'we': 7, \"we're\": 1, 'week': 1, 'were': 3, 'where': 1, 'with': 22, 'you': 16, 'your': 21}\n",
    "```"
   ]
  },
  {
   "cell_type": "code",
   "execution_count": 350,
   "metadata": {},
   "outputs": [
    {
     "name": "stdout",
     "output_type": "stream",
     "text": [
      "{'a': 8, 'about': 1, 'all': 1, 'although': 3, 'and': 23, 'are': 1, 'at': 1, 'baby': 14, 'backseat': 1, 'bag': 1, 'bar': 1, 'be': 16, 'bedsheets': 3, 'begin': 1, 'best': 1, 'body': 17, 'boy': 2, 'brand': 6, 'can': 1, 'chance': 1, 'club': 1, 'come': 37, 'conversation': 1, 'crazy': 2, 'dance': 1, 'date': 1, 'day': 6, 'discovering': 6, 'do': 3, 'doing': 2, \"don't\": 2, 'drinking': 1, 'driver': 1, 'eat': 1, 'every': 6, 'falling': 3, 'family': 1, 'fast': 1, 'fill': 2, 'find': 1, 'first': 1, 'follow': 6, 'for': 3, 'friends': 1, 'get': 1, 'girl': 2, 'give': 1, 'go': 2, 'going': 1, 'grab': 2, 'hand': 1, 'handmade': 2, 'heart': 3, 'hours': 2, 'how': 1, 'i': 6, \"i'll\": 1, \"i'm\": 23, 'in': 27, 'is': 5, \"isn't\": 1, 'it': 1, 'jukebox': 1, 'just': 1, 'kiss': 1, 'know': 2, 'last': 3, 'lead': 6, 'leave': 1, 'let': 1, \"let's\": 2, 'like': 10, 'love': 25, 'lover': 1, 'magnet': 3, 'make': 1, 'man': 1, 'may': 2, 'me': 10, 'mind': 2, 'much': 2, 'my': 33, 'new': 6, 'night': 3, 'not': 2, 'now': 11, 'of': 6, 'okay': 1, 'on': 40, 'one': 1, 'our': 1, 'out': 1, 'over': 1, 'place': 1, 'plate': 1, 'play': 1, 'pull': 3, 'push': 3, 'put': 3, 'radio': 1, 'room': 3, 'say': 2, 'shape': 6, 'shots': 1, 'singing': 2, 'slow': 1, 'smell': 3, 'so': 2, 'somebody': 2, 'something': 6, 'sour': 1, 'start': 2, 'stop': 1, 'story': 1, 'sweet': 1, 'table': 1, 'take': 1, 'talk': 4, 'taxi': 1, 'tell': 1, 'that': 2, 'the': 18, 'then': 3, 'thrifty': 1, 'to': 2, 'too': 5, 'trust': 1, 'up': 3, 'van': 1, 'waist': 2, 'want': 2, 'was': 2, 'we': 7, \"we're\": 1, 'week': 1, 'were': 3, 'where': 1, 'with': 22, 'you': 16, 'your': 21}\n"
     ]
    }
   ],
   "source": [
    "# Tu codigo aquí\n",
    "word_freq = {'love': 25, 'conversation': 1, 'every': 6, \"we're\": 1, 'plate': 1, 'sour': 1, 'jukebox': 1, 'now': 11, 'taxi': 1, 'fast': 1, 'bag': 1, 'man': 1, 'push': 3, 'baby': 14, 'going': 1, 'you': 16, \"don't\": 2, 'one': 1, 'mind': 2, 'backseat': 1, 'friends': 1, 'then': 3, 'know': 2, 'take': 1, 'play': 1, 'okay': 1, 'so': 2, 'begin': 1, 'start': 2, 'over': 1, 'body': 17, 'boy': 2, 'just': 1, 'we': 7, 'are': 1, 'girl': 2, 'tell': 1, 'singing': 2, 'drinking': 1, 'put': 3, 'our': 1, 'where': 1, \"i'll\": 1, 'all': 1, \"isn't\": 1, 'make': 1, 'lover': 1, 'get': 1, 'radio': 1, 'give': 1, \"i'm\": 23, 'like': 10, 'can': 1, 'doing': 2, 'with': 22, 'club': 1, 'come': 37, 'it': 1, 'somebody': 2, 'handmade': 2, 'out': 1, 'new': 6, 'room': 3, 'chance': 1, 'follow': 6, 'in': 27, 'may': 2, 'brand': 6, 'that': 2, 'magnet': 3, 'up': 3, 'first': 1, 'and': 23, 'pull': 3, 'of': 6, 'table': 1, 'much': 2, 'last': 3, 'i': 6, 'thrifty': 1, 'grab': 2, 'was': 2, 'driver': 1, 'slow': 1, 'dance': 1, 'the': 18, 'say': 2, 'trust': 1, 'family': 1, 'week': 1, 'date': 1, 'me': 10, 'do': 3, 'waist': 2, 'smell': 3, 'day': 6, 'although': 3, 'your': 21, 'leave': 1, 'want': 2, \"let's\": 2, 'lead': 6, 'at': 1, 'hand': 1, 'how': 1, 'talk': 4, 'not': 2, 'eat': 1, 'falling': 3, 'about': 1, 'story': 1, 'sweet': 1, 'best': 1, 'crazy': 2, 'let': 1, 'too': 5, 'van': 1, 'shots': 1, 'go': 2, 'to': 2, 'a': 8, 'my': 33, 'is': 5, 'place': 1, 'find': 1, 'shape': 6, 'on': 40, 'kiss': 1, 'were': 3, 'night': 3, 'heart': 3, 'for': 3, 'discovering': 6, 'something': 6, 'be': 16, 'bedsheets': 3, 'fill': 2, 'hours': 2, 'stop': 1, 'bar': 1}\n",
    "keys = list(word_freq.keys())\n",
    "keys.sort()\n",
    "\n",
    "word_freq2 = {}\n",
    "for k in keys:\n",
    "    valor = word_freq.get(k)\n",
    "    word_freq2.update({k: valor})\n",
    "\n",
    "print(word_freq2)"
   ]
  },
  {
   "cell_type": "markdown",
   "metadata": {},
   "source": [
    "#### Ordena los valores de `word_freq` de forma ascendente.\n",
    "\n",
    "Ordenar los valores de un diccionario es más complicado que ordenar las claves porque los valores de un diccionario no son únicos. Por lo tanto, no puedes usar la misma forma en que ordenaste las claves del diccionario para ordenar los valores del diccionario.\n",
    "\n",
    "La forma de ordenar un diccionario por valor es utilizar las funciones `sorted` y `operator.itemgetter`. El siguiente fragmento de código se te proporciona para que lo pruebes. Te dará una lista de tuplas en la que cada tupla contiene la clave y el valor de un elemento del diccionario. Y la lista está ordenada basada en el valor del diccionario ( [referencia](http://thomas-cokelaer.info/blog/2017/12/how-to-sort-a-dictionary-by-values-in-python/)\n",
    ").\n",
    "\n",
    "```python\n",
    "import operator\n",
    "sorted_tups = sorted(word_freq.items(), key=operator.itemgetter(1))\n",
    "print(sorted_tups)\n",
    "```\n",
    "\n",
    "Por lo tanto, los pasos para ordenar `word_freq` por valor son:\n",
    "\n",
    "* Utilizando `sorted` y `operator.itemgetter`, obtén una lista de tuplas de los pares clave-valor del diccionario que está ordenada por el valor.\n",
    "\n",
    "* Crea un diccionario vacío llamado `word_freq2`.\n",
    "\n",
    "* Itera la lista de tuplas. Inserta cada par clave-valor en `word_freq2` como un objeto.\n",
    "\n",
    "Imprime `word_freq2` para confirmar que tu diccionario tiene sus valores ordenados. Tu salida debería ser:\n",
    "\n",
    "```python\n",
    "{'conversation': 1, \"we're\": 1, 'plate': 1, 'sour': 1, 'jukebox': 1, 'taxi': 1, 'fast': 1, 'bag': 1, 'man': 1, 'going': 1, 'one': 1, 'backseat': 1, 'friends': 1, 'take': 1, 'play': 1, 'okay': 1, 'begin': 1, 'over': 1, 'just': 1, 'are': 1, 'tell': 1, 'drinking': 1, 'our': 1, 'where': 1, \"i'll\": 1, 'all': 1, \"isn't\": 1, 'make': 1, 'lover': 1, 'get': 1, 'radio': 1, 'give': 1, 'can': 1, 'club': 1, 'it': 1, 'out': 1, 'chance': 1, 'first': 1, 'table': 1, 'thrifty': 1, 'driver': 1, 'slow': 1, 'dance': 1, 'trust': 1, 'family': 1, 'week': 1, 'date': 1, 'leave': 1, 'at': 1, 'hand': 1, 'how': 1, 'eat': 1, 'about': 1, 'story': 1, 'sweet': 1, 'best': 1, 'let': 1, 'van': 1, 'shots': 1, 'place': 1, 'find': 1, 'kiss': 1, 'stop': 1, 'bar': 1, \"don't\": 2, 'mind': 2, 'know': 2, 'so': 2, 'start': 2, 'boy': 2, 'girl': 2, 'singing': 2, 'doing': 2, 'somebody': 2, 'handmade': 2, 'may': 2, 'that': 2, 'much': 2, 'grab': 2, 'was': 2, 'say': 2, 'waist': 2, 'want': 2, \"let's\": 2, 'not': 2, 'crazy': 2, 'go': 2, 'to': 2, 'fill': 2, 'hours': 2, 'push': 3, 'then': 3, 'put': 3, 'room': 3, 'magnet': 3, 'up': 3, 'pull': 3, 'last': 3, 'do': 3, 'smell': 3, 'although': 3, 'falling': 3, 'were': 3, 'night': 3, 'heart': 3, 'for': 3, 'bedsheets': 3, 'talk': 4, 'too': 5, 'is': 5, 'every': 6, 'new': 6, 'follow': 6, 'brand': 6, 'of': 6, 'i': 6, 'day': 6, 'lead': 6, 'shape': 6, 'discovering': 6, 'something': 6, 'we': 7, 'a': 8, 'like': 10, 'me': 10, 'now': 11, 'baby': 14, 'you': 16, 'be': 16, 'body': 17, 'the': 18, 'your': 21, 'with': 22, \"i'm\": 23, 'and': 23, 'love': 25, 'in': 27, 'my': 33, 'come': 37, 'on': 40}\n",
    "```"
   ]
  },
  {
   "cell_type": "code",
   "execution_count": 353,
   "metadata": {},
   "outputs": [
    {
     "name": "stdout",
     "output_type": "stream",
     "text": [
      "{'conversation': 1, \"we're\": 1, 'plate': 1, 'sour': 1, 'jukebox': 1, 'taxi': 1, 'fast': 1, 'bag': 1, 'man': 1, 'going': 1, 'one': 1, 'backseat': 1, 'friends': 1, 'take': 1, 'play': 1, 'okay': 1, 'begin': 1, 'over': 1, 'just': 1, 'are': 1, 'tell': 1, 'drinking': 1, 'our': 1, 'where': 1, \"i'll\": 1, 'all': 1, \"isn't\": 1, 'make': 1, 'lover': 1, 'get': 1, 'radio': 1, 'give': 1, 'can': 1, 'club': 1, 'it': 1, 'out': 1, 'chance': 1, 'first': 1, 'table': 1, 'thrifty': 1, 'driver': 1, 'slow': 1, 'dance': 1, 'trust': 1, 'family': 1, 'week': 1, 'date': 1, 'leave': 1, 'at': 1, 'hand': 1, 'how': 1, 'eat': 1, 'about': 1, 'story': 1, 'sweet': 1, 'best': 1, 'let': 1, 'van': 1, 'shots': 1, 'place': 1, 'find': 1, 'kiss': 1, 'stop': 1, 'bar': 1, \"don't\": 2, 'mind': 2, 'know': 2, 'so': 2, 'start': 2, 'boy': 2, 'girl': 2, 'singing': 2, 'doing': 2, 'somebody': 2, 'handmade': 2, 'may': 2, 'that': 2, 'much': 2, 'grab': 2, 'was': 2, 'say': 2, 'waist': 2, 'want': 2, \"let's\": 2, 'not': 2, 'crazy': 2, 'go': 2, 'to': 2, 'fill': 2, 'hours': 2, 'push': 3, 'then': 3, 'put': 3, 'room': 3, 'magnet': 3, 'up': 3, 'pull': 3, 'last': 3, 'do': 3, 'smell': 3, 'although': 3, 'falling': 3, 'were': 3, 'night': 3, 'heart': 3, 'for': 3, 'bedsheets': 3, 'talk': 4, 'too': 5, 'is': 5, 'every': 6, 'new': 6, 'follow': 6, 'brand': 6, 'of': 6, 'i': 6, 'day': 6, 'lead': 6, 'shape': 6, 'discovering': 6, 'something': 6, 'we': 7, 'a': 8, 'like': 10, 'me': 10, 'now': 11, 'baby': 14, 'you': 16, 'be': 16, 'body': 17, 'the': 18, 'your': 21, 'with': 22, \"i'm\": 23, 'and': 23, 'love': 25, 'in': 27, 'my': 33, 'come': 37, 'on': 40}\n"
     ]
    }
   ],
   "source": [
    "# Tu codigo aquí\n",
    "import operator\n",
    "sorted_tups = sorted(word_freq.items(), key=operator.itemgetter(1))\n",
    "#print(sorted_tups)\n",
    "\n",
    "word_freq2 = {}\n",
    "for tupla in sorted_tups:\n",
    "    word_freq2.update({tupla[0]: tupla[1]})\n",
    "\n",
    "print(word_freq2)"
   ]
  },
  {
   "cell_type": "code",
   "execution_count": null,
   "metadata": {},
   "outputs": [],
   "source": []
  }
 ],
 "metadata": {
  "kernelspec": {
   "display_name": "Python 3 (ipykernel)",
   "language": "python",
   "name": "python3"
  },
  "language_info": {
   "codemirror_mode": {
    "name": "ipython",
    "version": 3
   },
   "file_extension": ".py",
   "mimetype": "text/x-python",
   "name": "python",
   "nbconvert_exporter": "python",
   "pygments_lexer": "ipython3",
   "version": "3.12.4"
  },
  "vscode": {
   "interpreter": {
    "hash": "aee8b7b246df8f9039afb4144a1f6fd8d2ca17a180786b69acc140d282b71a49"
   }
  }
 },
 "nbformat": 4,
 "nbformat_minor": 4
}
